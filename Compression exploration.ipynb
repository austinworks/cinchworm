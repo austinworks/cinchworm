{
 "cells": [
  {
   "cell_type": "code",
   "execution_count": 67,
   "id": "d82dc38a-5a48-4aa0-991a-8e3097310527",
   "metadata": {},
   "outputs": [
    {
     "data": {
      "text/plain": [
       "[0, 101, 102, 103, 104, 108, 401]"
      ]
     },
     "execution_count": 67,
     "metadata": {},
     "output_type": "execute_result"
    }
   ],
   "source": [
    "from construct import Array, Int24sb, Struct\n",
    "\n",
    "format = Struct(\"data\" / Array(4095, Int24sb))\n",
    "file = open(\"/Users/austin/Downloads/Bodyport Senior Software Engineer - Programming Assignment/sample_ecg_raw.bin\", \"rb\")\n",
    "rawdata = file.read()\n",
    "container = format.parse(rawdata)\n",
    "cleandata = [int(d) for d in container.data]\n",
    "import matplotlib.pyplot as plt \n",
    "import numpy as np \n",
    "%matplotlib inline\n",
    "#datablocks = []\n",
    "offsets = [0]\n",
    "block_idx = 0\n",
    "mins = []\n",
    "maxs = []\n",
    "for idx, i in enumerate(cleandata):\n",
    "    if len(mins) < block_idx + 1:\n",
    "        mins.append(i)\n",
    "        maxs.append(i)\n",
    "    if i > mins[block_idx] + 65535:\n",
    "        offsets.append(idx - 1)\n",
    "        maxs.append(i)\n",
    "        mins.append(i)\n",
    "        #datablocks.append(cleandata[offsets[block_idx]:idx])\n",
    "        block_idx += 1\n",
    "        \n",
    "        continue\n",
    "    if i < maxs[block_idx] - 65535:\n",
    "        offsets.append(idx - 1)\n",
    "        maxs.append(i)\n",
    "        mins.append(i)\n",
    "        block_idx += 1\n",
    "        continue\n",
    "    if i > maxs[block_idx]:\n",
    "        maxs[block_idx] = i\n",
    "    if i < mins[block_idx]:\n",
    "        mins[block_idx] = i\n",
    "offsets\n"
   ]
  },
  {
   "cell_type": "code",
   "execution_count": 69,
   "id": "5b845a14-5c45-4a84-9a64-90ec1273c7c7",
   "metadata": {},
   "outputs": [
    {
     "name": "stdout",
     "output_type": "stream",
     "text": [
      "[-6737, 18393, 6928, 6400, 6928]\n",
      "[938539, -6622, -5322, 938539, 938539]\n",
      "[441000, -5322, 938539, 441000, 441000]\n",
      "[171873, 938539, 441000, 171873, 171873]\n",
      "[353, 441000, 171873, 63110, 63110]\n",
      "[-12785, 6748, 353, -3046, 27778]\n",
      "[14280, 26630, -12785, 61305, 69679]\n"
     ]
    }
   ],
   "source": [
    "for idx, x in enumerate(offsets):\n",
    "    print(([mins[idx], cleandata[x-1], cleandata[x], cleandata[x+1], maxs[idx]]))"
   ]
  },
  {
   "cell_type": "code",
   "execution_count": 72,
   "id": "4110051a-f45c-4b91-be61-845af5b2c965",
   "metadata": {},
   "outputs": [
    {
     "data": {
      "text/plain": [
       "[6928,\n",
       " 6400,\n",
       " 6356,\n",
       " 6516,\n",
       " 5766,\n",
       " 6304,\n",
       " 5449,\n",
       " 2742,\n",
       " 2015,\n",
       " 2633,\n",
       " 3286,\n",
       " 2809,\n",
       " 2656,\n",
       " 2722,\n",
       " 2623,\n",
       " 1405,\n",
       " 1143,\n",
       " 1073,\n",
       " -244,\n",
       " 426,\n",
       " 364,\n",
       " -133,\n",
       " 347,\n",
       " 204,\n",
       " -784,\n",
       " -871,\n",
       " -1189,\n",
       " -1518,\n",
       " -1669,\n",
       " -1976,\n",
       " -1666,\n",
       " -2090,\n",
       " -3291,\n",
       " -3713,\n",
       " -3784,\n",
       " -3038,\n",
       " -3712,\n",
       " -3637,\n",
       " -3557,\n",
       " -3790,\n",
       " -2620,\n",
       " -2102,\n",
       " -2036,\n",
       " -2202,\n",
       " -3537,\n",
       " -5379,\n",
       " -5363,\n",
       " -4469,\n",
       " -4326,\n",
       " -3892,\n",
       " -4089,\n",
       " -4393,\n",
       " -4337,\n",
       " -4480,\n",
       " -4611,\n",
       " -4483,\n",
       " -4090,\n",
       " -4761,\n",
       " -5064,\n",
       " -5144,\n",
       " -4345,\n",
       " -5196,\n",
       " -5310,\n",
       " -5526,\n",
       " -4445,\n",
       " -4855,\n",
       " -5381,\n",
       " -4842,\n",
       " -4206,\n",
       " -6529,\n",
       " -6689,\n",
       " -6126,\n",
       " -5166,\n",
       " -4354,\n",
       " -4849,\n",
       " -5776,\n",
       " -4847,\n",
       " -4501,\n",
       " -5043,\n",
       " -5841,\n",
       " -6604,\n",
       " -5248,\n",
       " -3782,\n",
       " -4836,\n",
       " -4824,\n",
       " -6347,\n",
       " -6737,\n",
       " -6294,\n",
       " -5607,\n",
       " -4905,\n",
       " -4114,\n",
       " -5420,\n",
       " -6046,\n",
       " -5730,\n",
       " -5649,\n",
       " -4998,\n",
       " -5234,\n",
       " -5550,\n",
       " -5488,\n",
       " -6141,\n",
       " -6622,\n",
       " -5322]"
      ]
     },
     "execution_count": 72,
     "metadata": {},
     "output_type": "execute_result"
    }
   ],
   "source": [
    "cleandata[0:102]\n"
   ]
  },
  {
   "cell_type": "code",
   "execution_count": 73,
   "id": "2ce1869c-5509-4703-b3b4-932c14c1480e",
   "metadata": {},
   "outputs": [
    {
     "data": {
      "text/plain": [
       "[-6737, 938539, 441000, 171873, 353, -12785, 14280]"
      ]
     },
     "execution_count": 73,
     "metadata": {},
     "output_type": "execute_result"
    }
   ],
   "source": [
    "mins"
   ]
  },
  {
   "cell_type": "code",
   "execution_count": 74,
   "id": "e71dde7a-f118-4fc6-a6a2-1a0793b2ded8",
   "metadata": {},
   "outputs": [
    {
     "data": {
      "text/plain": [
       "[6928, 938539, 441000, 171873, 63110, 27778, 69679]"
      ]
     },
     "execution_count": 74,
     "metadata": {},
     "output_type": "execute_result"
    }
   ],
   "source": [
    "maxs"
   ]
  },
  {
   "cell_type": "code",
   "execution_count": null,
   "id": "ade48d8f-c155-437b-8330-9ce7978b77f9",
   "metadata": {},
   "outputs": [],
   "source": []
  }
 ],
 "metadata": {
  "kernelspec": {
   "display_name": "Python 3 (ipykernel)",
   "language": "python",
   "name": "python3"
  },
  "language_info": {
   "codemirror_mode": {
    "name": "ipython",
    "version": 3
   },
   "file_extension": ".py",
   "mimetype": "text/x-python",
   "name": "python",
   "nbconvert_exporter": "python",
   "pygments_lexer": "ipython3",
   "version": "3.9.10"
  }
 },
 "nbformat": 4,
 "nbformat_minor": 5
}
